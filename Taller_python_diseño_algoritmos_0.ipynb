{
  "nbformat": 4,
  "nbformat_minor": 0,
  "metadata": {
    "colab": {
      "provenance": []
    },
    "kernelspec": {
      "name": "python3",
      "display_name": "Python 3"
    },
    "language_info": {
      "name": "python"
    }
  },
  "cells": [
    {
      "cell_type": "markdown",
      "source": [
        "Analisis:\n",
        "\n",
        "1.   que?   que arroja el computador\n",
        "2.   por que ?     malicia\n",
        "3.   para que ?:\n",
        "\n"
      ],
      "metadata": {
        "id": "bIsjcTGdo4Iq"
      }
    },
    {
      "cell_type": "code",
      "source": [
        "#        TALLER 1 Actividades producto / ejercicios algoritmicos"
      ],
      "metadata": {
        "id": "3kkZwujYABdG"
      },
      "execution_count": null,
      "outputs": []
    },
    {
      "cell_type": "code",
      "source": [
        "\"\"\" 1. Compra de artículos, Si los artículos comprados son menores a 3 Pagar en efectivo,\n",
        "caso contrario pagar con tarjeta.\"\"\"\n",
        "\n",
        "#1. entender--compra--condicion--\n",
        "#2. herramientas--\"IF\", comparadores logicos\n",
        "#3. analisis--que , para que ,porque\n",
        "#4. prueba y evaluaciones\n",
        "\n",
        "precio=int(input('ingrese un numero de precio del artículo'))\n",
        "\n",
        "#precio=5\n",
        "#precio=4\n",
        "\n",
        "if precio<3:\n",
        "  print ('paga en efectivo')\n",
        "\n",
        "if precio >3:\n",
        "  print('paga con tarjeta')\n",
        "\n",
        "\n"
      ],
      "metadata": {
        "id": "luECdyJKA3Ej",
        "colab": {
          "base_uri": "https://localhost:8080/"
        },
        "outputId": "ecbeef08-d83b-4231-e701-e8b4d7cbd1a3"
      },
      "execution_count": 2,
      "outputs": [
        {
          "output_type": "stream",
          "name": "stdout",
          "text": [
            "ingrese un numero de precio del artículo5\n",
            "paga con tarjeta\n"
          ]
        }
      ]
    },
    {
      "cell_type": "code",
      "source": [
        "\"\"\" 2. Programa que permita leer 3 valores\"\"\"\n",
        "\n",
        "num1 = 3  # int(input('ingrese un numero'))\n",
        "num2 = 4  # int(input('ingrese un segundo numero'))\n",
        "num3 = 60  # int(input('ingrese un tercer numero'))\n",
        "\n",
        "if num1 != num2 and num1 != num3:\n",
        "    if num2 != num1 and num2 != num3:\n",
        "        if num3 != num1 and num3 != num2:\n",
        "            if num1 > num2 and num1 > num3:\n",
        "                print(f\"el {num1} es el mayor\")\n",
        "            elif num2 > num1 and num2 > num3:\n",
        "                print(f\"el {num2} es el mayor\")\n",
        "            elif num3 > num1 and num3 > num2:\n",
        "                print(f\"el {num3} es el mayor\")\n",
        "else:\n",
        "    print('ingrese numeros diferentes')\n",
        "\n"
      ],
      "metadata": {
        "id": "NUYotfVUAjNu",
        "colab": {
          "base_uri": "https://localhost:8080/"
        },
        "outputId": "1c176239-bcf6-4360-ec61-60f6eb095662"
      },
      "execution_count": 3,
      "outputs": [
        {
          "output_type": "stream",
          "name": "stdout",
          "text": [
            "el 60 es el mayor\n"
          ]
        }
      ]
    },
    {
      "cell_type": "code",
      "source": [
        "\"\"\" 3. Ingresar por teclado 3 números enteros\n",
        "y mostrar el menor de los 3 números ingresados\n",
        "y la suma de dichos números.\"\"\"\n",
        "\n",
        "num1=5   # int(input(\"ingrese el numero\"))\n",
        "num2=7   # int(input(\"ingrese el segundo numero\"))\n",
        "num3=2   # int(input(\"ingrese el tercer numero\"))\n",
        "\n",
        "# mostrar el menor de los tres\n",
        "# mostrar la suma de los tres\n",
        "\n",
        "if num1 < num2 and num1 < num3:\n",
        "    print(f\"El {num1} es el menor\")\n",
        "elif num2 < num1 and num2 < num3:\n",
        "    print(f\"El {num2} es el menor\")\n",
        "elif num3 < num1 and num3 < num2:\n",
        "    print(f\"El {num3} es el menor\")\n",
        "\n",
        "print(f\" y la suma de los numeros es:{num1+num2+num3}\")\n"
      ],
      "metadata": {
        "colab": {
          "base_uri": "https://localhost:8080/"
        },
        "id": "Z7lwvJEn1WQp",
        "outputId": "fe059feb-db2e-45e4-b027-e21fe3807802"
      },
      "execution_count": 5,
      "outputs": [
        {
          "output_type": "stream",
          "name": "stdout",
          "text": [
            "El 2 es el menor\n",
            " y la suma de los numeros es:14\n"
          ]
        }
      ]
    },
    {
      "cell_type": "code",
      "source": [
        "\"\"\" 4. a un trabajador le pagan según sus horas trabajadas por una tarifa\n",
        "de pago por hora. si la cantidad de horas trabajadas es mayor a 40 horas.\n",
        " la tarifa se incrementa en un 50% para las horas extras. calcular el\n",
        " salario del trabajador dadas las horas trabajadas y la tarifa\"\"\"\n",
        "\n",
        "#1. que tengo ----#HORAS POR CANTIDAD DE TRABAJO-----condicion de tarifa para horas extras\n",
        "#2. #que herramientas tengo ---IF---operador logicos---saber calcular porcentaje\n",
        "#3. analisis que , porque , para que?\n",
        "#4. evaluacion y resultados\n",
        "\n",
        "horas_trabajador=50 #int(input('ingrese horas trabajadas'))\n",
        "valor_hora=4        #int(input('ingrese sus horas'))\n",
        "#formula general\n",
        "\n",
        "if horas_trabajador<40:\n",
        "  print(f\"el salario del trabajador es:{horas_trabajador*valor_hora}\")\n",
        "elif horas_trabajador>=40:\n",
        "  hora_extra=horas_trabajador-40\n",
        "  horas_totales=valor_hora*horas_trabajador\n",
        "  incremento=hora_extra*0.5*valor_hora\n",
        "  resultado=horas_trabajador * valor_hora + incremento\n",
        "  print(f\" su salario + hora extra es {resultado} \")\n",
        "\n",
        "\n",
        "\n",
        "\n",
        "\n",
        "\n"
      ],
      "metadata": {
        "id": "hqofMz2LLlez",
        "colab": {
          "base_uri": "https://localhost:8080/"
        },
        "outputId": "9e334bec-9296-4194-d703-1c4ab051a4ad"
      },
      "execution_count": 9,
      "outputs": [
        {
          "output_type": "stream",
          "name": "stdout",
          "text": [
            " su salario + hora extra es 220.0 \n"
          ]
        }
      ]
    },
    {
      "cell_type": "code",
      "source": [
        "\"\"\" 5. Hacer un algoritmo que calcule el total a pagar por la compra de camisas.\n",
        "Si se compran tres camisas o más se aplica un descuento del 20% sobre el total de la compra\n",
        "y si son menos de tres camisas un descuento del 10%\"\"\"\n",
        "\n",
        "\n",
        "\n",
        "\n",
        "\n",
        "\n",
        "\n",
        "\n",
        "\n"
      ],
      "metadata": {
        "id": "Q7DbkcMgDwti"
      },
      "execution_count": null,
      "outputs": []
    },
    {
      "cell_type": "code",
      "source": [
        "\"\"\"6. A un trabajador le descuentan de su sueldo el 10%,\n",
        "si su sueldo es menor o igual a 1000.\n",
        "por encima de 1000 y hasta 2000 el 5% del adicional,\n",
        "y por encima de 2000 el 3% del adicional.\n",
        "calcular el descuento y sueldo neto que recibe el trabajador dado su sueldo\"\"\"\n",
        "\n",
        "\n",
        "# Paso 1: Obtener el sueldo del trabajador\n",
        "sueldo = float(input(\"Ingrese el sueldo del trabajador: \"))\n",
        "# Paso 2: Calcular el descuento\n",
        "if sueldo <= 1000:\n",
        "    descuento = 0.10 * sueldo\n",
        "elif sueldo <= 2000:\n",
        "    adicional = sueldo - 1000\n",
        "    descuento = 0.10 * 1000 + 0.05 * adicional\n",
        "else:\n",
        "    adicional = sueldo - 2000\n",
        "    descuento = 0.10 * 1000 + 0.05 * 1000 + 0.03 * adicional\n",
        "# Paso 3: Calcular el sueldo neto\n",
        "sueldo_neto = sueldo - descuento\n",
        "# Mostrar resultados\n",
        "print(f\"Descuento: {descuento}\")\n",
        "print(f\"Sueldo Neto: {sueldo_neto}\")\n",
        "\n",
        "\n",
        "\n",
        "\n",
        "\n",
        "\n",
        "\n"
      ],
      "metadata": {
        "id": "JLXuH7JvdoLp"
      },
      "execution_count": null,
      "outputs": []
    },
    {
      "cell_type": "code",
      "source": [
        "\"\"\" 7. Determinar si un alumno aprueba o reprueba un curso,\n",
        "sabiendo que aprobara si:\n",
        "su promedio de cinco calificaciones es mayor o igual a 5;\n",
        "reprueba en caso contrario.\"\"\"\n",
        "\n",
        "# Entender: el problema nos pide determinar si un alumno aprueba o reprueba un curso\n",
        "# Para aprobar, el promedio de las cinco calificaciones del alumno debe ser mayor o igual a 5\n",
        "# Para reprobar, el promedio debe ser menor que 5\"\"\"\n",
        "\n",
        "#calificaciones:\n",
        "c1= 6\n",
        "c2= 7\n",
        "c3= 5\n",
        "c4= 4\n",
        "c5= 8\n",
        "\n",
        "# promedio = suma de calificaiones / 5 (total de calificaiones)\n",
        "# Comparar el promedio con 5:\n",
        "\n",
        "# condicional: Si el promedio es mayor o igual a 5, el alumno aprueba.\n",
        "# condicional: Si el promedio es menor que 5, el alumno reprueba\n",
        "\n",
        "promedio= (c1+c2+c3+c4+c5)/5\n",
        "print(promedio)\n",
        "if promedio >= 5:\n",
        "  print(f\"el alumno aprueba\")\n",
        "\n",
        "if promedio < 5:\n",
        "  print(f\"el alumno reprueba\")\n",
        "\n",
        "# Comparamos el promedio con 5 para determinar si el alumno aprueba o reprueba.\n",
        "\n",
        "\n",
        "\n"
      ],
      "metadata": {
        "id": "gUL1qnm_eunj",
        "colab": {
          "base_uri": "https://localhost:8080/"
        },
        "outputId": "01f248b1-b78d-4214-e7f5-c1c038c4c13c"
      },
      "execution_count": null,
      "outputs": [
        {
          "output_type": "stream",
          "name": "stdout",
          "text": [
            "6.0\n",
            "el alumno aprueba\n"
          ]
        }
      ]
    },
    {
      "cell_type": "code",
      "source": [
        "\"\"\" 8.- Una distribuidora de motocicletas tiene una promoción\n",
        "de fin de año que consiste en lo siguiente. Las motos marca Honda\n",
        "tienen un descuento del 5%, las marcas Yamaha del 8% y las Suzuki\n",
        "del 10%, las otras marcas 2%. Se debe mostrar el precio de la moto,\n",
        "el descuento y el precio a pagar.\"\"\"\n",
        "\n",
        "#que tenemos?\n",
        "#2. herramientas\n",
        "#3. analisis\n",
        "#4. evaluacion y resultados\n",
        "\n",
        "# descuentos:\n",
        "\n",
        "#honda: 5%\n",
        "#yamaha 8%\n",
        "#susuki 10%\n",
        "#otras 2%\n",
        "\n",
        "#mostras 3 cosas:\n",
        "\n",
        "#precio de la moto\n",
        "#descuento\n",
        "#precio a pagar\n",
        "\n",
        "#porcentaje\n",
        "#234*0.1\n",
        "\n",
        "#moto='hp'\n",
        "#valor_moto= 300\n",
        "\n",
        "moto= input(\"ingrese la marca de la moto\")\n",
        "valor_moto= int(input(\"ingrese el valor de la moto\"))\n",
        "\n",
        "if moto=='yamaha':\n",
        "  resultado = valor_moto*0.08\n",
        "\n",
        "  print(f\" su descuento  es {resultado}  \")\n",
        "\n",
        "elif moto=='honda':\n",
        "  resultado = valor_moto*0.05\n",
        "\n",
        "  print(f\" su descuento  es {resultado}  \")\n",
        "\n",
        "elif moto=='susuki':\n",
        "  resultado = valor_moto*0.1\n",
        "\n",
        "  print(f\" su descuento  es {resultado}  \")\n",
        "\n",
        "else:\n",
        "  resultado = valor_moto*0.02\n",
        "  print(f\" su descuento es {resultado} \")\n",
        "\n",
        "\n",
        "\n",
        "\n",
        "\n",
        "\n"
      ],
      "metadata": {
        "id": "KJwK1F2NZBUV",
        "colab": {
          "base_uri": "https://localhost:8080/"
        },
        "outputId": "1568af8d-37cf-485f-9333-12962aedf55b"
      },
      "execution_count": null,
      "outputs": [
        {
          "output_type": "stream",
          "name": "stdout",
          "text": [
            "ingrese la marca de la motohonda\n",
            "ingrese el valor de la moto300\n",
            " su descuento  es 15.0  \n"
          ]
        }
      ]
    },
    {
      "cell_type": "code",
      "source": [
        "\"\"\" 9.- Pedir un valor numérico e indicar si es par o no es par (ia)\"\"\"\n",
        "\n",
        "# Pedir al usuario que ingrese un valor numérico\n",
        "numero = int(input(\"Ingresa un valor numérico: \"))\n",
        "\n",
        "# Verificar si el número es par o no\n",
        "if numero % 2 == 0:\n",
        "    print(\"El número\", numero, \"es par.\")\n",
        "else:\n",
        "    print(\"El número\", numero, \"no es par.\")\n",
        "\n",
        "\n"
      ],
      "metadata": {
        "id": "3Umjma9W906F"
      },
      "execution_count": null,
      "outputs": []
    },
    {
      "cell_type": "code",
      "source": [
        "\"\"\"10.- Un cliente va a comprar una moto y se percata que si lo compraba\n",
        "el martes tiene un descuento del 12%, luego si lo compra el sábado tiene\n",
        "un descuento del 18% y si es feriado un 25%, mostrar cuanto pagara en cada opción. (ia)\"\"\"\n",
        "\n",
        "# Precio base de la moto\n",
        "precio_moto = 1000\n",
        "\n",
        "# Descuento por comprar el martes (12%)\n",
        "descuento_martes = 0.12\n",
        "precio_martes = precio_moto - (precio_moto * descuento_martes)\n",
        "\n",
        "# Descuento por comprar el sábado (18%)\n",
        "descuento_sabado = 0.18\n",
        "precio_sabado = precio_moto - (precio_moto * descuento_sabado)\n",
        "\n",
        "# Descuento por comprar en feriado (25%)\n",
        "descuento_feriado = 0.25\n",
        "precio_feriado = precio_moto - (precio_moto * descuento_feriado)\n",
        "\n",
        "# Mostrar los precios con descuento\n",
        "print(\"Si compra la moto el martes, pagará:\", precio_martes)\n",
        "print(\"Si compra la moto el sábado, pagará:\", precio_sabado)\n",
        "print(\"Si compra la moto en feriado, pagará:\", precio_feriado)\n",
        "\n",
        "\n",
        "\n"
      ],
      "metadata": {
        "id": "6zn_Ajfl-B65"
      },
      "execution_count": null,
      "outputs": []
    },
    {
      "cell_type": "code",
      "source": [
        "# Taller de DESEMPEÑO\n",
        "\n",
        "\"\"\"1. ¿Cuál es el resultado de cada una de las siguientes operaciones?\n",
        "\n",
        "a. (5+5)*5\n",
        "b. 5+(5*5)\n",
        "c. 5 Modulo 2\n",
        "d. (5-(6/3))*2 \"\"\"\n",
        "\n",
        "resultado_a =(5+5)*5\n",
        "print(f\"el resultado de la operacion (5+5)*5 es {resultado_a} \")\n",
        "\n",
        "resultado_b =5+(5*5)\n",
        "print(f\"el resultado de la operacion 5+(5*5) es {resultado_b}\")\n",
        "\n",
        "# modulo= 5%2\n",
        "\n",
        "resultado_c =5%2\n",
        "print(f\"el resultado de la operacion 5 modulo 2 es {resultado_c}\")\n",
        "\n",
        "resultado_d =(5-(6/3))*2\n",
        "print(f\"el resultado de la operacion (5-(6/3))*2 es {resultado_d}\")\n",
        "\n",
        "\n",
        "\n",
        "\n",
        "\n"
      ],
      "metadata": {
        "colab": {
          "base_uri": "https://localhost:8080/"
        },
        "id": "YpLZJsQNn1vx",
        "outputId": "d53046aa-df19-43bd-8176-d9d14610bd67"
      },
      "execution_count": null,
      "outputs": [
        {
          "output_type": "stream",
          "name": "stdout",
          "text": [
            "el resultado de la operacion (5+5)*5 es 50 \n",
            "el resultado de la operacion 5+(5*5) es 30\n",
            "el resultado de la operacion 5 modulo 2 es 1\n",
            "el resultado de la operacion (5-(6/3))*2 es 6.0\n"
          ]
        }
      ]
    },
    {
      "cell_type": "code",
      "source": [
        "\"\"\" 2. Si a=7 y b=3,\n",
        "¿Cuál es el resultado de cada una de las siguientes comparaciones?\n",
        "a. a != b\n",
        "b. a = b\n",
        "c. a > b\n",
        "d. (a+b) < 2\n",
        "e. (a>7) Y (b=3)\n",
        "f. (a<7) O (b=3)\n",
        "g. (a<7) O (b!=3)\n",
        "\"\"\"\n",
        "a=7\n",
        "b=3\n",
        "\n",
        "resultado_a = a != b\n",
        "print(f\"el resultado de la comparacion a != b es {resultado_a} \")\n",
        "\n",
        "resultado_b = a == b\n",
        "print(f\"el resultado de la comparacion a = b es {resultado_b} \")\n",
        "\n",
        "resultado_c = a > b\n",
        "print(f\"el resultado de la comparacion a > b es {resultado_c} \")\n",
        "\n",
        "resultado_d = (a+b) < 2\n",
        "print(f\"el resultado de la comparacion (a+b) < 2 es {resultado_d} \")\n",
        "\n",
        "resultado_e = (a>7) and (b==3)\n",
        "print(f\"el resultado de la comparacion (a>7) Y (b=3) es {resultado_e} \")\n",
        "\n",
        "resultado_f = (a<7) or (b==3)\n",
        "print(f\"el resultado de la comparacion (a<7) O (b=3) es {resultado_f} \")\n",
        "\n",
        "resultado_g = (a<7) or (b!=3)\n",
        "print(f\"el resultado de la comparacion (a<7) O (b!=3) es {resultado_g} \")\n"
      ],
      "metadata": {
        "colab": {
          "base_uri": "https://localhost:8080/"
        },
        "id": "-3B2qDFNMw5i",
        "outputId": "7b70e1ce-da07-46bd-bc5e-62085d39a57a"
      },
      "execution_count": 8,
      "outputs": [
        {
          "output_type": "stream",
          "name": "stdout",
          "text": [
            "el resultado de la comparacion a != b es True \n",
            "el resultado de la comparacion a = b es False \n",
            "el resultado de la comparacion a > b es True \n",
            "el resultado de la comparacion (a+b) < 2 es False \n",
            "el resultado de la comparacion (a>7) Y (b=3) es False \n",
            "el resultado de la comparacion (a<7) O (b=3) es True \n",
            "el resultado de la comparacion (a<7) O (b!=3) es False \n"
          ]
        }
      ]
    },
    {
      "cell_type": "code",
      "source": [
        "\"\"\" 4. En un curso de “fundamentos de algoritmos”,\n",
        "se tienen las siguientes notas (Cada una de ellas entre 1 y 5)\n",
        "con sus respectivos porcentajes:\n",
        "Taller 1: 20%\n",
        "Taller 2: 15%\n",
        "Cuestionario 1:22%\n",
        "Cuestionario 2:10%\n",
        "Proyecto final: 33%\n",
        "Escribir un algoritmo que lea las cinco notas de un estudiante e imprima la nota definitiva.\"\"\"\n",
        "\n",
        "\n",
        "\n",
        "\n",
        "\n",
        "\n",
        "\n",
        "\n",
        "\n"
      ],
      "metadata": {
        "id": "-oWs5GbWNEuj"
      },
      "execution_count": null,
      "outputs": []
    },
    {
      "cell_type": "code",
      "source": [
        "\"\"\" 5. Realizar un algoritmo que permita convertir metros a millas\"\"\"\n",
        "\n",
        "\n",
        "# Solicitar la longitud en metros al usuario\n",
        "metros = float(input(\"Ingresa la longitud en metros: \"))\n",
        "\n",
        "# Calcular la longitud en millas y mostrar el resultado\n",
        "millas = metros / 1609.34\n",
        "print(f\"{metros} metros son aproximadamente {millas:.2f} millas\")\n"
      ],
      "metadata": {
        "colab": {
          "base_uri": "https://localhost:8080/"
        },
        "id": "KlwTQWc8pW-7",
        "outputId": "2d7505c1-8cab-4377-c0c0-c76c66e7de0a"
      },
      "execution_count": null,
      "outputs": [
        {
          "output_type": "stream",
          "name": "stdout",
          "text": [
            "Ingresa la longitud en metros: 100\n",
            "100.0 metros son aproximadamente 0.06 millas\n"
          ]
        }
      ]
    },
    {
      "cell_type": "code",
      "source": [
        "\"\"\" 6. El gobierno nacional ha decretado un incremento\n",
        "del 4,2% para el salario mínimo del próximo año.\n",
        "Elabore un algoritmo que muestre el nuevo salario mínimo\n",
        "para el siguiente año.\"\"\"\n",
        "\n",
        "\n",
        "\n"
      ],
      "metadata": {
        "id": "2TM2SfYcrrwX"
      },
      "execution_count": null,
      "outputs": []
    },
    {
      "cell_type": "code",
      "source": [
        "\"\"\" 7. Realizar un algoritmo que permita convertir pesos colombianos a dólares.\"\"\"\n",
        "\n",
        "# Solicitar la cantidad de pesos colombianos\n",
        "pesos_colombianos = float(input(\"Ingresa la cantidad de pesos colombianos: \"))\n",
        "\n",
        "# Solicitar el tipo de cambio actual (1 USD = X pesos colombianos)\n",
        "tipo_cambio = float(input(\"Ingresa el tipo de cambio actual (1 USD = X pesos colombianos): \"))\n",
        "\n",
        "# Calcular la cantidad de dólares equivalentes\n",
        "dolares = pesos_colombianos / tipo_cambio\n",
        "\n",
        "# Mostrar el resultado de la conversión\n",
        "print(f\"{pesos_colombianos} pesos colombianos equivalen a aproximadamente {dolares:.2f} dólares\")\n"
      ],
      "metadata": {
        "id": "vhOKbQD7sC5M"
      },
      "execution_count": null,
      "outputs": []
    },
    {
      "cell_type": "code",
      "source": [],
      "metadata": {
        "id": "QcGF0ZC-9h8A"
      },
      "execution_count": null,
      "outputs": []
    },
    {
      "cell_type": "code",
      "source": [
        "# Taller de PRODUCTO Taller 2\n",
        "\n",
        "\"\"\"hacer un programa para calificar los ejercicios de clase,\"\"\"\n",
        "\n",
        "# tomare el ejemplo del taller como los ejercicios de clase\n",
        "\n",
        "# Para calificar los ejercicios, primero necesitas tener los ejercicios con el resultado correcto\n",
        "\n",
        "\"\"\"Cuando los estudiantes entreguen sus ejercicios, deberás comparar sus respuestas con la solución\n",
        "correcta, si la respuesta del estudiante coincide exactamente con la solución correcta se considera\n",
        "que el ejercicio está aprobado, de lo contrario esta reprobado\"\"\"\n",
        "\n",
        "# Solución correcta del ejercicio 1. IMC\n",
        "solucion_correcta =peso_en_kilogramos / (estatura en metros)^2\n",
        "\n",
        "# Respuesta del estudiante\n",
        "respuesta_estudiante = int(input(\"Ingresa tu respuesta: \"))\n",
        "\n",
        "# Comparación de respuestas y asignación de nota\n",
        "if respuesta_estudiante == solucion_correcta:\n",
        "    print(\"¡Respuesta correcta! Aprobado.\")\n",
        "else:\n",
        "    print(\"Respuesta incorrecta. Reprobado.\")\n",
        "\n",
        "# Solución correcta del ejercicio 2. hola mundo\n",
        "solucion_correcta = 'print(\"Hola mundo\")'\n",
        "\n",
        "# Respuesta del estudiante\n",
        "respuesta_estudiante = input(\"Ingresa tu respuesta: \")\n",
        "\n",
        "# Comparación de respuestas y asignación de nota\n",
        "if respuesta_estudiante == solucion_correcta:\n",
        "    print(\"¡Respuesta correcta! Aprobado.\")\n",
        "else:\n",
        "    print(\"Respuesta incorrecta. Reprobado.\")\n",
        "\n",
        "# Solución correcta del ejercicio 3. suma de numeros\n",
        "solucion_correcta = 'resultado = 5 + 3'\n",
        "\n",
        "# Respuesta del estudiante\n",
        "respuesta_estudiante = input(\"Ingresa tu respuesta: \")\n",
        "\n",
        "# Comparación de respuestas y asignación de nota\n",
        "if respuesta_estudiante == solucion_correcta:\n",
        "    print(\"¡Respuesta correcta! Aprobado.\")\n",
        "else:\n",
        "    print(\"Respuesta incorrecta. Reprobado.\")\n",
        "\n",
        "# Solución correcta del ejercicio 4. numero par e impar\n",
        "solucion_correcta =\n",
        "'''numero = 7\n",
        "if numero % 2 == 0:\n",
        "    print(\"El número es par\")\n",
        "else:\n",
        "    print(\"El número es impar\")\n",
        "'''\n",
        "\n",
        "# Respuesta del estudiante\n",
        "respuesta_estudiante = input(\"Ingresa tu respuesta: \")\n",
        "\n",
        "# Comparación de respuestas y asignación de nota\n",
        "if respuesta_estudiante == solucion_correcta:\n",
        "    print(\"¡Respuesta correcta! Aprobado.\")\n",
        "else:\n",
        "    print(\"Respuesta incorrecta. Reprobado.\")\n",
        "\n",
        "\n",
        "# Solución correcta del ejercicio 5. area del cuadrado\n",
        "solucion_correcta = '''\n",
        "lado = 5\n",
        "area = lado * lado\n",
        "print(\"El área del cuadrado es:\", area)\n",
        "'''\n",
        "\n",
        "# Respuesta del estudiante\n",
        "respuesta_estudiante = input(\"Ingresa tu respuesta: \")\n",
        "\n",
        "# Comparación de respuestas y asignación de nota\n",
        "if respuesta_estudiante == solucion_correcta:\n",
        "    print(\"¡Respuesta correcta! Aprobado.\")\n",
        "else:\n",
        "    print(\"Respuesta incorrecta. Reprobado.\")\n",
        "\n",
        "# Solución correcta del ejercicio 6. area del triangulo\n",
        "solucion_correcta = '''\n",
        "base = 5\n",
        "altura = 8\n",
        "area = (base * altura) / 2\n",
        "print(\"El área del triángulo es:\", area)\n",
        "'''\n",
        "\n",
        "# Respuesta del estudiante\n",
        "respuesta_estudiante = input(\"Ingresa tu respuesta: \")\n",
        "\n",
        "# Comparación de respuestas y asignación de nota\n",
        "if respuesta_estudiante == solucion_correcta:\n",
        "    print(\"¡Respuesta correcta! Aprobado.\")\n",
        "else:\n",
        "    print(\"Respuesta incorrecta. Reprobado.\")\n",
        "\n",
        "# Solución correcta del ejercicio 7. calcular edad\n",
        "solucion_correcta = '''\n",
        "anio_actual = 2024\n",
        "anio_nacimiento = 1990\n",
        "edad = anio_actual - anio_nacimiento\n",
        "print(\"La edad actual es:\", edad)\n",
        "'''\n",
        "\n",
        "# Respuesta del estudiante\n",
        "respuesta_estudiante = input(\"Ingresa tu respuesta: \")\n",
        "\n",
        "# Comparación de respuestas y asignación de nota\n",
        "if respuesta_estudiante == solucion_correcta:\n",
        "    print(\"¡Respuesta correcta! Aprobado.\")\n",
        "else:\n",
        "    print(\"Respuesta incorrecta. Reprobado.\")\n",
        "\n",
        "\n",
        "\n",
        "\n",
        "\n",
        "\n",
        "\n",
        "\n",
        "\n",
        "\n",
        "\n",
        "\n",
        "\n",
        "\n",
        "\n",
        "\n",
        "\n",
        "\n",
        "\n",
        "\n"
      ],
      "metadata": {
        "colab": {
          "base_uri": "https://localhost:8080/",
          "height": 106
        },
        "id": "XBIgsFp6tOEx",
        "outputId": "fdc57759-392e-4688-af75-a3a7d1cb6be0"
      },
      "execution_count": null,
      "outputs": [
        {
          "output_type": "error",
          "ename": "SyntaxError",
          "evalue": "invalid syntax (<ipython-input-8-a7921532bbcb>, line 14)",
          "traceback": [
            "\u001b[0;36m  File \u001b[0;32m\"<ipython-input-8-a7921532bbcb>\"\u001b[0;36m, line \u001b[0;32m14\u001b[0m\n\u001b[0;31m    solucion_correcta = peso en kilogramos / (estatura en metros)^2\u001b[0m\n\u001b[0m                             ^\u001b[0m\n\u001b[0;31mSyntaxError\u001b[0m\u001b[0;31m:\u001b[0m invalid syntax\n"
          ]
        }
      ]
    }
  ]
}
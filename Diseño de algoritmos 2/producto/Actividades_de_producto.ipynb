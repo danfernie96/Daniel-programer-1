{
  "nbformat": 4,
  "nbformat_minor": 0,
  "metadata": {
    "colab": {
      "provenance": [],
      "authorship_tag": "ABX9TyOHS8oRMJez2Y5JjVsdcO2L",
      "include_colab_link": true
    },
    "kernelspec": {
      "name": "python3",
      "display_name": "Python 3"
    },
    "language_info": {
      "name": "python"
    }
  },
  "cells": [
    {
      "cell_type": "markdown",
      "metadata": {
        "id": "view-in-github",
        "colab_type": "text"
      },
      "source": [
        "<a href=\"https://colab.research.google.com/github/danfernie96/Dise-o-de-Algoritmos-Daniel-B/blob/main/Actividades_de_producto.ipynb\" target=\"_parent\"><img src=\"https://colab.research.google.com/assets/colab-badge.svg\" alt=\"Open In Colab\"/></a>"
      ]
    },
    {
      "cell_type": "code",
      "execution_count": null,
      "metadata": {
        "id": "KNdZ3dsTB7RU",
        "colab": {
          "base_uri": "https://localhost:8080/"
        },
        "outputId": "c0557909-74c6-4807-998f-6b1ab0747305"
      },
      "outputs": [
        {
          "output_type": "stream",
          "name": "stdout",
          "text": [
            "ingrese contraseña123\n",
            "contraseña incorrecta, intenta otra vez\n",
            "ingrese contraseña1234\n",
            "Bienvenido\n"
          ]
        }
      ],
      "source": [
        "# Crear un programa que pida al usuario una contraseña, de forma repetitiva mientras que no introduzca \"1234\n",
        "\n",
        "clave_real = 1234\n",
        "\n",
        "contraseña = int(input(\"ingrese contraseña\"))\n",
        "while contraseña != clave_real:\n",
        "  print(f\"contraseña incorrecta, intenta otra vez\")\n",
        "  contraseña = int(input(\"ingrese contraseña\"))\n",
        "\n",
        "\n",
        "if contraseña == clave_real:\n",
        "  print(f\"Bienvenido\")"
      ]
    },
    {
      "cell_type": "code",
      "source": [
        "# Crea un programa que genere dos números al azar entre el 0 y el 100 ...\n",
        "import random\n",
        "Num_1 = random.randint(0,100)\n",
        "Num_2 = random.randint(0,100)\n",
        "Suma_correct = Num_1 + Num_2\n",
        "Suma_usuario = int(input(f\"¿Cuánto es la suma de el {Num_1} y el {Num_2}?:\"))\n",
        "\n",
        "while True:\n",
        "    if Suma_usuario == Suma_correct:\n",
        "        print(\"Has acertado\")\n",
        "        break\n",
        "    else:\n",
        "        print(\"Has fallado\")\n",
        "        Suma_usuario = int(input(f\"¿Cuánto es la suma de el {Num_1} y el {Num_2}\"))"
      ],
      "metadata": {
        "id": "2kWushxqCiGn",
        "colab": {
          "base_uri": "https://localhost:8080/"
        },
        "outputId": "61d6db81-50b4-4f06-d7ea-28a6efa36777"
      },
      "execution_count": null,
      "outputs": [
        {
          "output_type": "stream",
          "name": "stdout",
          "text": [
            "¿Cuánto es la suma de el 76 y el 74?:156\n",
            "Has fallado\n",
            "¿Cuánto es la suma de el 76 y el 74150\n",
            "Has acertado\n"
          ]
        }
      ]
    }
  ]
}
{
  "nbformat": 4,
  "nbformat_minor": 0,
  "metadata": {
    "colab": {
      "provenance": [],
      "authorship_tag": "ABX9TyN3QVyQs4csYHfuJubMrqqF",
      "include_colab_link": true
    },
    "kernelspec": {
      "name": "python3",
      "display_name": "Python 3"
    },
    "language_info": {
      "name": "python"
    }
  },
  "cells": [
    {
      "cell_type": "markdown",
      "metadata": {
        "id": "view-in-github",
        "colab_type": "text"
      },
      "source": [
        "<a href=\"https://colab.research.google.com/github/danfernie96/Dise-o-de-Algoritmos-Daniel-B/blob/main/Actividades_de_Desempe%C3%B1o_Taller_3.ipynb\" target=\"_parent\"><img src=\"https://colab.research.google.com/assets/colab-badge.svg\" alt=\"Open In Colab\"/></a>"
      ]
    },
    {
      "cell_type": "markdown",
      "source": [
        "   Actividades de Desempeño / Taller 3"
      ],
      "metadata": {
        "id": "yXA78Tg6i59c"
      }
    },
    {
      "cell_type": "code",
      "source": [
        "\"\"\" 1. Elabore un programa que permita mostrar el sueldo promedio de un grupo de empleados\"\"\"\n",
        "\n",
        "# lista de empleados\n",
        "\n",
        "l_e=[3,8,5]\n",
        "aux=0\n",
        "for e in range(0,3):\n",
        "  aux=l_e[e]+aux\n",
        "print(f\"el promedio es{aux/3}\")"
      ],
      "metadata": {
        "colab": {
          "base_uri": "https://localhost:8080/"
        },
        "id": "ADPrMmwLjA67",
        "outputId": "fa783dd2-608e-4da3-a64a-0b572377dc5b"
      },
      "execution_count": null,
      "outputs": [
        {
          "output_type": "stream",
          "name": "stdout",
          "text": [
            "el promedio es5.333333333333333\n"
          ]
        }
      ]
    },
    {
      "cell_type": "code",
      "source": [
        "\"\"\" 2. Elabore un programa que muestre la potencia de 2 de un numero x mientras llegue a 1000\"\"\"\n",
        "\n",
        "# para no alargar tanto el resultado en la ejecucion remplace al 1000 por un 10, (pero es lo mismo)\n",
        "\n",
        "x= int(input(\"ingrese numero\"))\n",
        "for i in range(x,10+1):\n",
        "\n",
        "# ahora muestro la potencia del numero elevado al cuadrado.\n",
        "\n",
        "  print(i**2)"
      ],
      "metadata": {
        "colab": {
          "base_uri": "https://localhost:8080/"
        },
        "id": "EQVFRpBpjxbb",
        "outputId": "9eae286f-ca2e-44c6-a4c7-eaf20f992644"
      },
      "execution_count": null,
      "outputs": [
        {
          "output_type": "stream",
          "name": "stdout",
          "text": [
            "ingrese numero2\n",
            "4\n",
            "9\n",
            "16\n",
            "25\n",
            "36\n",
            "49\n",
            "64\n",
            "81\n",
            "100\n"
          ]
        }
      ]
    },
    {
      "cell_type": "code",
      "source": [
        "\"\"\" 3. Elaborar un programa que permita ingresar 10 letras y luego nos indique\n",
        " al final cuantas vocales y consonantes se ingresaron.\"\"\"\n",
        "\n",
        "s=[]\n",
        "contador=0\n",
        "contador_v=0\n",
        "contador_c=0\n",
        "while contador<10:\n",
        "  s.append(input('ingrese una letra'))\n",
        "  contador+=1\n",
        "print(s)\n",
        "print(s)\n",
        "lista_vocales=['a','e','i','o','u']\n",
        "for j in s:\n",
        "  if j in lista_vocales:\n",
        "    print(f\"{j} es vocal\")\n",
        "    contador_v+=1\n",
        "\n",
        "  else:\n",
        "    print(f\"{j} es consonanate\")\n",
        "    contador_c+=1\n",
        "print(f\"el total de consonates es {contador_c}\")\n",
        "print(f\"el total de vocales es {contador_v}\")"
      ],
      "metadata": {
        "id": "wmF2PLw-l1n7",
        "colab": {
          "base_uri": "https://localhost:8080/"
        },
        "outputId": "fbb245a5-fdc4-4e4b-d247-985f35511861"
      },
      "execution_count": null,
      "outputs": [
        {
          "output_type": "stream",
          "name": "stdout",
          "text": [
            "ingrese una letrat\n",
            "ingrese una letray\n",
            "ingrese una letrau\n",
            "ingrese una letrai\n",
            "ingrese una letrao\n",
            "ingrese una letrae\n",
            "ingrese una letraf\n",
            "ingrese una letrah\n",
            "ingrese una letrag\n",
            "ingrese una letraj\n",
            "['t', 'y', 'u', 'i', 'o', 'e', 'f', 'h', 'g', 'j']\n",
            "['t', 'y', 'u', 'i', 'o', 'e', 'f', 'h', 'g', 'j']\n",
            "t es consonanate\n",
            "y es consonanate\n",
            "u es vocal\n",
            "i es vocal\n",
            "o es vocal\n",
            "e es vocal\n",
            "f es consonanate\n",
            "h es consonanate\n",
            "g es consonanate\n",
            "j es consonanate\n",
            "el total de consonates es 6\n",
            "el total de vocales es 4\n"
          ]
        }
      ]
    },
    {
      "cell_type": "code",
      "source": [
        "\"\"\"4. Debes crear un programa que calcule los resultados de las elecciones\n",
        "para elegir al alcalde, en las cuales hay tres candidatos compitiendo.\n",
        "Se considera que hay un total de 200 electores, y todos emitieron su voto.\n",
        "El programa debe determinar al ganador utilizando el criterio de mayoría simple.\"\"\"\n",
        "\n",
        "# programa calculador de quien tuvo mas numero de votos (que operacion? < o > )\n",
        "# de esos 3 uno solo va a tener mas votos\n",
        "\n",
        "# votaciones totales hechas = 200, (debe cumplir esta cantidad)\n",
        "\n",
        "# por ultimo muestra resultado canditado ganador por mayoria\n",
        "\n",
        "# candidatos = [\"Jorge\", \"Andres\", \"Camilo\"]     (c1 = 68, c2 = 67, c3 = 65) = 200 votos\n",
        "\n",
        "c1 = int(input(\"Ingresa los votos que tuvo Jorge:\"))\n",
        "c2 = int(input(\"Ingresa los votos que tuvo Andres:\"))\n",
        "c3 = int(input(\"Ingresa los votos que tuvo Camilo:\"))\n",
        "\n",
        "if c1 + c2 + c3 != 200:\n",
        "    print(f\"error, hay mas o menos de 200 votos, la votacion no es valida\")\n",
        "else:\n",
        "\n",
        "    if c1 > c2 and c1 > c3:\n",
        "          print(f\"El candidato ganador es Jorge\")\n",
        "    elif c2 > c1 and c2 > c3:\n",
        "          print(f\"El candidato ganador es Andres\")\n",
        "    elif c3 > c1 and c3 > c2:\n",
        "          print(f\"El candidato ganador es Camilo\")\n"
      ],
      "metadata": {
        "colab": {
          "base_uri": "https://localhost:8080/"
        },
        "id": "z0qRIVcWW8a9",
        "outputId": "3c00dfda-e34c-4e82-ee2b-b7dbd019eb8f"
      },
      "execution_count": null,
      "outputs": [
        {
          "output_type": "stream",
          "name": "stdout",
          "text": [
            "Ingresa los votos que tuvo Jorge:50\n",
            "Ingresa los votos que tuvo Andres:50\n",
            "Ingresa los votos que tuvo Camilo:100\n",
            "El candidato ganador es Camilo\n"
          ]
        }
      ]
    },
    {
      "cell_type": "code",
      "source": [
        "\"\"\"5.Una ONG tiene puntos de reparto de vacunas que se pretende funcionen\n",
        "de la siguiente manera. Cada día, empezar con 1000 vacunas disponibles\n",
        "y a través de un programa que controla las entregas avisar si el\n",
        "inventario baja de 200 unidades. Desarrollar el algoritmo.\"\"\"\n",
        "\n",
        "# Solicitar al usuario que ingrese la cantidad inicial de vacunas\n",
        "\n",
        "inventario_total = int(input(\"Ingrese la cantidad inicial de vacunas: \"))\n",
        "contador = inventario_total\n",
        "\n",
        "# Bucle para verificar constantemente el inventario\n",
        "while True:\n",
        "    # Verificar si el inventario es igual o menor a 200\n",
        "    if contador <= 200:\n",
        "        print(\"¡Alerta! ya quedan 200 vacunas en el inventario.\")\n",
        "        break  # Salir del bucle\n",
        "\n",
        "    # Simular el consumo de vacunas\n",
        "    uso_vacunas = int(input(\"Ingrese la cantidad de vacunas utilizadas hoy: \"))\n",
        "    contador -= uso_vacunas"
      ],
      "metadata": {
        "id": "Bwkqltirqj_8",
        "colab": {
          "base_uri": "https://localhost:8080/"
        },
        "outputId": "1c4a611b-4df8-4311-b840-c991432f0211"
      },
      "execution_count": 2,
      "outputs": [
        {
          "output_type": "stream",
          "name": "stdout",
          "text": [
            "Ingrese la cantidad inicial de vacunas: 1000\n",
            "Ingrese la cantidad de vacunas utilizadas hoy: 500\n",
            "Ingrese la cantidad de vacunas utilizadas hoy: 300\n",
            "¡Alerta! ya quedan 200 vacunas en el inventario.\n"
          ]
        }
      ]
    },
    {
      "cell_type": "code",
      "source": [
        "\"\"\" 6 .Un vivero forestal actualiza cada seis meses los precios de la planta que vende\n",
        "en función de los valores oficiales de inflación mensual. Desean desarrollar un programa\n",
        " que proporcione el precio actualizado a partir del precio anterior y los valores de inflación.\"\"\"\n",
        "\n",
        "# cada 6 meses actualiza precios\n",
        "# valores de inflacion mensual = 12%\n",
        "# a partir de precio anterior se da el precio actualizado\n",
        "# programa que proporcione el precio actualizado\n",
        "\n",
        "inflacion = 0.12\n",
        "contador = 1\n",
        "precio = 8000   # float(input(\"Ingrese el precio planta: \"))\n",
        "while inflacion < 0.16:\n",
        "    resultado = (precio * inflacion) + precio\n",
        "    print(f\"el precio del semestre {contador} es {resultado} \")\n",
        "\n",
        "    inflacion += 0.01\n",
        "    contador += 1"
      ],
      "metadata": {
        "id": "_86jyEoV1bqL",
        "colab": {
          "base_uri": "https://localhost:8080/"
        },
        "outputId": "b9303cfc-4c6b-4fc0-fe68-df4b33c5fe9a"
      },
      "execution_count": null,
      "outputs": [
        {
          "output_type": "stream",
          "name": "stdout",
          "text": [
            "el precio del semestre 1 es 8960.0 \n",
            "el precio del semestre 2 es 9040.0 \n",
            "el precio del semestre 3 es 9120.0 \n",
            "el precio del semestre 4 es 9200.0 \n"
          ]
        }
      ]
    },
    {
      "cell_type": "code",
      "source": [
        "#7.\tDesarrolle un programa que calcule el promedio de edad hombre y mujeres de un grupo de estudiantes.\n",
        "lista_h = [4, 5, 6, 7]\n",
        "lista_m = [8, 9, 10, 11]\n",
        "suma = 0\n",
        "suma_m = 0\n",
        "contador = 0\n",
        "p=len(lista_h)\n",
        "p_2=len(lista_m)\n",
        "while contador<len(lista_h):\n",
        "     suma += lista_h[contador]\n",
        "     suma_m += lista_m[contador]\n",
        "     contador += 1\n",
        "print(f\"el promedio de los hombres es :{suma/p}\")\n",
        "print(f\"el promedio de los mujeres es :{suma_m/p_2}\")"
      ],
      "metadata": {
        "id": "K3rYa7gLAwbT",
        "colab": {
          "base_uri": "https://localhost:8080/"
        },
        "outputId": "f09fe6ee-ce7a-40dc-d319-0dd8d9c054df"
      },
      "execution_count": null,
      "outputs": [
        {
          "output_type": "stream",
          "name": "stdout",
          "text": [
            "el promedio de los hombres es :5.5\n",
            "el promedio de los mujeres es :9.5\n"
          ]
        }
      ]
    },
    {
      "cell_type": "code",
      "source": [
        "#8.\tRealice un programa que permita realizar un bingo digital\n",
        "import random\n",
        "\n",
        "bingo1 = 0\n",
        "bingo2 = 0\n",
        "\n",
        "# Suponiendo que 'bingo_1' y 'bingo_2' son listas con los números ganadores de cada juego\n",
        "bingo_1 = [1, 2, 3]\n",
        "bingo_2 = [4, 5, 6]\n",
        "\n",
        "while bingo1 != \"BINGO1\" and bingo2 != \"BINGO2\":  # El bucle debe continuar hasta que uno de los jugadores gane\n",
        "\n",
        "    contador = 0\n",
        "    s = []\n",
        "\n",
        "    while contador < 3:  # Generar una lista de tres números aleatorios para cada juego\n",
        "        numero_aleatorio = random.randint(1, 10)\n",
        "        s.append(numero_aleatorio)\n",
        "        contador += 1\n",
        "\n",
        "    print(\"Números generados para bingo1:\", s)\n",
        "\n",
        "    # Comprobar si bingo1 gana\n",
        "    if s == bingo_1:\n",
        "        print(\"¡El ganador es el bingo1!\")\n",
        "        bingo1 = \"BINGO1\"\n",
        "\n",
        "    print(\"Números generados para bingo2:\", s)\n",
        "\n",
        "    # Comprobar si bingo2 gana\n",
        "    if s == bingo_2:\n",
        "        print(\"¡El ganador es el bingo2!\")\n",
        "        bingo2=\"BINGO2\"\n"
      ],
      "metadata": {
        "id": "NJYceysCAxvf"
      },
      "execution_count": null,
      "outputs": []
    },
    {
      "cell_type": "code",
      "source": [
        "# 9\n",
        "lista_consumo_servicios = [200,300,400,500,600,700,800,900,800,300,100,200]\n",
        "lista_meses = [\"Ene\", \"Feb\", \"Mar\", \"Abr\", \"May\", \"Jun\", \"Jul\", \"Ago\", \"Sep\", \"Oct\", \"Nov\", \"Dic\"]\n",
        "\n",
        "suma = 0\n",
        "z = 0\n",
        "\n",
        "while z < len(lista_consumo_servicios):\n",
        "    suma = suma + lista_consumo_servicios[z]\n",
        "\n",
        "    print(f\"el valor a pagar de el mes en: {lista_meses[z]} es : {suma}\")\n",
        "    z += 1\n",
        "print(\"Los elementos del consumo mensual son:\")\n",
        "print(lista_consumo_servicios)\n",
        "print(f\"Durante el año ha pagado por concepto de servicios el siguiente valor: {suma}\")"
      ],
      "metadata": {
        "colab": {
          "base_uri": "https://localhost:8080/"
        },
        "id": "o5yMhLCs3qma",
        "outputId": "91939c0c-5b13-4b19-c333-8d0547528680"
      },
      "execution_count": null,
      "outputs": [
        {
          "output_type": "stream",
          "name": "stdout",
          "text": [
            "el valor a pagar de el mes en: Ene es : 200\n",
            "el valor a pagar de el mes en: Feb es : 500\n",
            "el valor a pagar de el mes en: Mar es : 900\n",
            "el valor a pagar de el mes en: Abr es : 1400\n",
            "el valor a pagar de el mes en: May es : 2000\n",
            "el valor a pagar de el mes en: Jun es : 2700\n",
            "el valor a pagar de el mes en: Jul es : 3500\n",
            "el valor a pagar de el mes en: Ago es : 4400\n",
            "el valor a pagar de el mes en: Sep es : 5200\n",
            "el valor a pagar de el mes en: Oct es : 5500\n",
            "el valor a pagar de el mes en: Nov es : 5600\n",
            "el valor a pagar de el mes en: Dic es : 5800\n",
            "Los elementos del consumo mensual son:\n",
            "[200, 300, 400, 500, 600, 700, 800, 900, 800, 300, 100, 200]\n",
            "Durante el año ha pagado por concepto de servicios el siguiente valor: 5800\n"
          ]
        }
      ]
    },
    {
      "cell_type": "code",
      "source": [
        "\"\"\"10. Desarrolle un programa que permita saber el salario de 20 empleados por mes se requiere\n",
        "el promedio de estos y el pago de cado uno de igual manera cuanto ganaran si se hace un incremento del 2.5%\"\"\"\n",
        "\n",
        "lista_salario_empleados = [78567, 112345, 46890, 142156, 98216, 55364, 134863, 67892, 122365, 89654, 105216, 43567, 116789, 76543, 138987, 95234, 58678, 128345, 72156, 103456]\n",
        "suma_salario = 0\n",
        "aumento_salario = 0.025\n",
        "lista_meses = [\"Ene\", \"Feb\", \"Mar\", \"Abr\", \"May\", \"Jun\", \"Jul\", \"Ago\", \"Sep\", \"Oct\", \"Nov\", \"Dic\"]\n",
        "\n",
        "for i in range(len(lista_meses)):\n",
        "  for salario in lista_salario_empleados:\n",
        "      sum_salario =+ salario\n",
        "\n",
        "  promedio = sum_salario/len(lista_salario_empleados)\n",
        "  print (f\"El promedio de {lista_meses[i]} salario de los 20 empleados es {promedio}\")\n",
        "  for x in range(len(lista_salario_empleados)):\n",
        "      lista_salario_empleados[x] =  lista_salario_empleados[x] * aumento_salario + lista_salario_empleados[x]\n",
        "  print (lista_salario_empleados)\n"
      ],
      "metadata": {
        "id": "sH-4wlISyRGr",
        "colab": {
          "base_uri": "https://localhost:8080/"
        },
        "outputId": "53c1b7df-f5a2-4f66-a4ca-c954e0444beb"
      },
      "execution_count": 4,
      "outputs": [
        {
          "output_type": "stream",
          "name": "stdout",
          "text": [
            "El promedio de Ene salario de los 20 empleados es 17242.666666666668\n",
            "[80531.175, 115153.625, 48062.25, 145709.9, 100671.4, 106042.4]\n",
            "El promedio de Feb salario de los 20 empleados es 17673.733333333334\n",
            "[82544.454375, 118032.465625, 49263.80625, 149352.6475, 103188.185, 108693.45999999999]\n",
            "El promedio de Mar salario de los 20 empleados es 18115.576666666664\n",
            "[84608.065734375, 120983.277265625, 50495.40140625, 153086.46368749999, 105767.889625, 111410.7965]\n",
            "El promedio de Abr salario de los 20 empleados es 18568.466083333333\n",
            "[86723.26737773439, 124007.85919726563, 51757.78644140625, 156913.6252796875, 108412.086865625, 114196.06641249999]\n",
            "El promedio de May salario de los 20 empleados es 19032.677735416666\n",
            "[88891.34906217775, 127108.05567719726, 53051.73110244141, 160836.46591167967, 111122.38903726562, 117050.9680728125]\n",
            "El promedio de Jun salario de los 20 empleados es 19508.494678802082\n",
            "[91113.63278873218, 130285.7570691272, 54378.02438000245, 164857.37755947167, 113900.44876319726, 119977.24227463281]\n",
            "El promedio de Jul salario de los 20 empleados es 19996.207045772135\n",
            "[93391.47360845048, 133542.90099585537, 55737.47498950251, 168978.81199845846, 116747.95998227719, 122976.67333149863]\n",
            "El promedio de Ago salario de los 20 empleados es 20496.11222191644\n",
            "[95726.26044866175, 136881.47352075175, 57130.91186424007, 173203.28229841992, 119666.65898183412, 126051.0901647861]\n",
            "El promedio de Sep salario de los 20 empleados es 21008.51502746435\n",
            "[98119.41695987829, 140303.51035877055, 58559.18466084608, 177533.36435588042, 122658.32545637997, 129202.36741890575]\n",
            "El promedio de Oct salario de los 20 empleados es 21533.727903150957\n",
            "[100572.40238387525, 143811.0981177398, 60023.16427736723, 181971.69846477744, 125724.78359278946, 132432.4266043784]\n",
            "El promedio de Nov salario de los 20 empleados es 22072.071100729732\n",
            "[103086.71244347213, 147406.3755706833, 61523.74338430141, 186520.99092639686, 128867.9031826092, 135743.23726948784]\n",
            "El promedio de Dic salario de los 20 empleados es 22623.872878247974\n",
            "[105663.88025455894, 151091.5349599504, 63061.836968908945, 191184.01569955677, 132089.60076217444, 139136.81820122505]\n"
          ]
        }
      ]
    }
  ]
}
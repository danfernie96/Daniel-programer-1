{
  "nbformat": 4,
  "nbformat_minor": 0,
  "metadata": {
    "colab": {
      "provenance": [],
      "authorship_tag": "ABX9TyNRwIt/PDrKmhYc8QWjqh+O",
      "include_colab_link": true
    },
    "kernelspec": {
      "name": "python3",
      "display_name": "Python 3"
    },
    "language_info": {
      "name": "python"
    }
  },
  "cells": [
    {
      "cell_type": "markdown",
      "metadata": {
        "id": "view-in-github",
        "colab_type": "text"
      },
      "source": [
        "<a href=\"https://colab.research.google.com/github/danfernie96/Dise-o-de-Algoritmos-Daniel-B/blob/main/Actividades_desempe%C3%B1o_Taller_2.ipynb\" target=\"_parent\"><img src=\"https://colab.research.google.com/assets/colab-badge.svg\" alt=\"Open In Colab\"/></a>"
      ]
    },
    {
      "cell_type": "markdown",
      "source": [
        "   Aplicación de la estructura MATCH CASE"
      ],
      "metadata": {
        "id": "UL9XsweK2Zug"
      }
    },
    {
      "cell_type": "code",
      "execution_count": null,
      "metadata": {
        "colab": {
          "base_uri": "https://localhost:8080/"
        },
        "id": "brPXMS9H2QQS",
        "outputId": "64ed4f83-739f-4122-9bbe-186485d12f98"
      },
      "outputs": [
        {
          "output_type": "stream",
          "name": "stdout",
          "text": [
            "8\n",
            "5\n",
            "24\n",
            "4.0\n"
          ]
        }
      ],
      "source": [
        "def calcular(operador, a, b):\n",
        "    match operador:\n",
        "        case 's':\n",
        "            return a + b\n",
        "        case 'r':\n",
        "            return a - b\n",
        "        case 'p':\n",
        "            return a * b\n",
        "        case 'd':\n",
        "            if b != 0:\n",
        "                return a / b\n",
        "            else:\n",
        "                return \"Error: No se puede dividir por cero.\"\n",
        "        case _:\n",
        "            return \"Operador no válido.\"\n",
        "\n",
        "#\n",
        "print(calcular('s', 5, 3))  # Suma\n",
        "print(calcular('r', 7, 2))  # Resta\n",
        "print(calcular('p', 4, 6))  # Multiplicación\n",
        "print(calcular('d', 8, 2))  # División"
      ]
    },
    {
      "cell_type": "code",
      "source": [
        "# match case"
      ],
      "metadata": {
        "id": "G4INtESS4nGe"
      },
      "execution_count": null,
      "outputs": []
    },
    {
      "cell_type": "markdown",
      "source": [
        "La empresa “PRINTFACIL S.A de C.V” se dedica a vender impresoras con sistema de tinta continuo a un precio unitario de $80000 (sin IVA). Se le pide que realice un algoritmo y a su vez la prueba de escritorio que permita ingresar la cantidad de impresores a comprar y seleccionar la forma de pago para luego generar el detalle del pago a realizar.\n",
        "\n",
        "Según la forma de pago, la empresa realiza los siguientes descuentos: Finalmente, el programa debe mostrar:\n",
        "\n",
        "La cantidad de impresoras a comprar.\n",
        "\n",
        "El precio unitario de la impresora (con IVA).\n",
        "\n",
        " El total sin descuento.  La forma de pago.  El descuento realizado.  El total a pagar.\n",
        "\n",
        "Considere que todos los descuentos se realizan sobre el precio CON IVA. Las entradas del programa deben estar validadas de tal forma que si el usuario ingresa datos incorrectos se debe generar un mensaje de error descriptivo."
      ],
      "metadata": {
        "id": "FEehj1cE2l0C"
      }
    },
    {
      "cell_type": "code",
      "source": [
        "def tienda(tipo_pago, precio, impr):\n",
        "  iva = 0.19\n",
        "  match tipo_pago:\n",
        "        case 'efectivo':\n",
        "             result = precio * impr\n",
        "             result_iva = (result * iva) + result\n",
        "             a = result_iva - (result_iva * 0.1)\n",
        "             print(f\"el total sin descuento es {result_iva}\")\n",
        "             print(f\"la forma de pago es {tipo_pago} \")\n",
        "             print(f\"el descuento realizado es 10%\")\n",
        "             print(f\"el total  pagar es {a}\")\n",
        "        case 'tarjeta':\n",
        "             result = precio * impr\n",
        "             result_iva = (result * iva) + result\n",
        "             a = result_iva - (result_iva * 0.05)\n",
        "             print(f\"el total sin descuento es {result_iva}\")\n",
        "             print(f\"la forma de pago es {tipo_pago} \")\n",
        "             print(f\"el descuento realizado es 5%\")\n",
        "             print(f\"el total  pagar es {a}\")\n",
        "\n",
        "        case 'vale':\n",
        "             result = precio * impr\n",
        "             result_iva = (result * iva) + result\n",
        "             a = result_iva - (result_iva * 0.15)\n",
        "             print(f\"el total sin descuento es {result_iva}\")\n",
        "             print(f\"la forma de pago es {tipo_pago} \")\n",
        "             print(f\"el descuento realizado es 15%\")\n",
        "             print(f\"el total  pagar es {a}\")\n",
        "\n",
        "\n",
        "        case _:\n",
        "            return \"Operador no válido.\"\n",
        "\n",
        "print(tienda('efectivo', 80000, 2 ))\n",
        "print(tienda('tarjeta', 80000, 2 ))\n",
        "print(tienda('vale', 80000, 2 ))\n",
        "print(tienda('h', 80000, 2 ))"
      ],
      "metadata": {
        "colab": {
          "base_uri": "https://localhost:8080/"
        },
        "id": "2ZgH4lws2toY",
        "outputId": "15191e49-e565-42b3-8ec8-183255d294ce"
      },
      "execution_count": null,
      "outputs": [
        {
          "output_type": "stream",
          "name": "stdout",
          "text": [
            "el total sin descuento es 190400.0\n",
            "la forma de pago es efectivo \n",
            "el descuento realizado es 10%\n",
            "el total  pagar es 171360.0\n",
            "None\n",
            "el total sin descuento es 190400.0\n",
            "la forma de pago es tarjeta \n",
            "el descuento realizado es 5%\n",
            "el total  pagar es 180880.0\n",
            "None\n",
            "el total sin descuento es 190400.0\n",
            "la forma de pago es vale \n",
            "el descuento realizado es 15%\n",
            "el total  pagar es 161840.0\n",
            "None\n",
            "Operador no válido.\n"
          ]
        }
      ]
    }
  ]
}
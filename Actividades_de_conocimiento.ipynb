{
  "nbformat": 4,
  "nbformat_minor": 0,
  "metadata": {
    "colab": {
      "provenance": [],
      "authorship_tag": "ABX9TyO/P/4L+SAoHbCJ8NOxKUzX",
      "include_colab_link": true
    },
    "kernelspec": {
      "name": "python3",
      "display_name": "Python 3"
    },
    "language_info": {
      "name": "python"
    }
  },
  "cells": [
    {
      "cell_type": "markdown",
      "metadata": {
        "id": "view-in-github",
        "colab_type": "text"
      },
      "source": [
        "<a href=\"https://colab.research.google.com/github/danfernie96/Dise-o-de-Algoritmos-Daniel-B/blob/main/Actividades_de_conocimiento.ipynb\" target=\"_parent\"><img src=\"https://colab.research.google.com/assets/colab-badge.svg\" alt=\"Open In Colab\"/></a>"
      ]
    },
    {
      "cell_type": "markdown",
      "source": [
        "   Actividades de conocimiento / Estructuras de repetición"
      ],
      "metadata": {
        "id": "rD8MCzT2p7KM"
      }
    },
    {
      "cell_type": "code",
      "source": [
        "\"\"\" 1. Elaborar un algoritmo y su debido proceso de prueba de escritorio que permita obtener\n",
        "la factorial de un número \"\"\"\n",
        "\n",
        "factorial = 1  # esta es la factorial\n",
        "for i in range(2,8):\n",
        " factorial *= i\n",
        "print(f\" la factorial del numero 7 es\", factorial)"
      ],
      "metadata": {
        "id": "O_reQRT_pMcy",
        "colab": {
          "base_uri": "https://localhost:8080/"
        },
        "outputId": "c408a24f-9019-4f8f-9931-504e9ed35eab"
      },
      "execution_count": 1,
      "outputs": [
        {
          "output_type": "stream",
          "name": "stdout",
          "text": [
            " la factorial del numero 7 es 5040\n"
          ]
        }
      ]
    },
    {
      "cell_type": "code",
      "source": [
        "\"\"\"2. Se desea conocer para un grupo de 10 personas, el total de personas por rango de\n",
        "edades. Los rangos son los siguientes: 0-20, 20-30,30,40, 40-60 y mayores de 60.\n",
        "Elabore un algoritmo y la prueba de escritorio que permita mostrar los totales respectivos\"\"\"\n",
        "\n",
        "cant_personas = 10\n",
        "contador_0_20 = 0\n",
        "contador_20_30 = 0\n",
        "contador_30_40 = 0\n",
        "contador_40_60 = 0\n",
        "contador_mas_60 = 0\n",
        "\n",
        "for cont in range(cant_personas):\n",
        "    print (\"Ingrese la edad #\" ,(cont+1))\n",
        "    edad = int(input())\n",
        "    if edad <= 20:\n",
        "        contador_0_20 += 1\n",
        "    elif edad <= 30:\n",
        "        contador_20_30 += 1\n",
        "    elif edad >30:\n",
        "        contador_30_40 += 1\n",
        "    elif edad >= 40:\n",
        "        contador_40_60 += 1\n",
        "    elif edad >= 60:\n",
        "        contador_mas_60 += 1\n",
        "    else:\n",
        "        print(\"Error, ingrese una edad entre 0 y 60\")\n",
        "    print(\"Total de personas entre 0 y 20:\", contador_0_20,\"Total de personas entre 30 y 40:\", contador_20_30,\"  Total de personas entre 40 y 60:\", contador_40_60, \" Total de personas mayores de 60:\", contador_mas_60)"
      ],
      "metadata": {
        "id": "sCxae15mCJpZ",
        "colab": {
          "base_uri": "https://localhost:8080/"
        },
        "outputId": "c08e6720-92a2-49ce-a32e-ba1d50ead8ab"
      },
      "execution_count": 2,
      "outputs": [
        {
          "output_type": "stream",
          "name": "stdout",
          "text": [
            "Ingrese la edad # 1\n",
            "20\n",
            "Total de personas entre 0 y 20: 1 Total de personas entre 30 y 40: 0   Total de personas entre 40 y 60: 0  Total de personas mayores de 60: 0\n",
            "Ingrese la edad # 2\n",
            "30\n",
            "Total de personas entre 0 y 20: 1 Total de personas entre 30 y 40: 1   Total de personas entre 40 y 60: 0  Total de personas mayores de 60: 0\n",
            "Ingrese la edad # 3\n",
            "40\n",
            "Total de personas entre 0 y 20: 1 Total de personas entre 30 y 40: 1   Total de personas entre 40 y 60: 0  Total de personas mayores de 60: 0\n",
            "Ingrese la edad # 4\n",
            "50\n",
            "Total de personas entre 0 y 20: 1 Total de personas entre 30 y 40: 1   Total de personas entre 40 y 60: 0  Total de personas mayores de 60: 0\n",
            "Ingrese la edad # 5\n",
            "60\n",
            "Total de personas entre 0 y 20: 1 Total de personas entre 30 y 40: 1   Total de personas entre 40 y 60: 0  Total de personas mayores de 60: 0\n",
            "Ingrese la edad # 6\n",
            "70\n",
            "Total de personas entre 0 y 20: 1 Total de personas entre 30 y 40: 1   Total de personas entre 40 y 60: 0  Total de personas mayores de 60: 0\n",
            "Ingrese la edad # 7\n",
            "23\n",
            "Total de personas entre 0 y 20: 1 Total de personas entre 30 y 40: 2   Total de personas entre 40 y 60: 0  Total de personas mayores de 60: 0\n",
            "Ingrese la edad # 8\n",
            "24\n",
            "Total de personas entre 0 y 20: 1 Total de personas entre 30 y 40: 3   Total de personas entre 40 y 60: 0  Total de personas mayores de 60: 0\n",
            "Ingrese la edad # 9\n",
            "25\n",
            "Total de personas entre 0 y 20: 1 Total de personas entre 30 y 40: 4   Total de personas entre 40 y 60: 0  Total de personas mayores de 60: 0\n",
            "Ingrese la edad # 10\n",
            "27\n",
            "Total de personas entre 0 y 20: 1 Total de personas entre 30 y 40: 5   Total de personas entre 40 y 60: 0  Total de personas mayores de 60: 0\n"
          ]
        }
      ]
    },
    {
      "cell_type": "code",
      "source": [
        "\"\"\" 3. Elaborar un algoritmo que permita las tablas de multiplicar del 1 al 100 de un número\n",
        "ingresado por el usuario. Recuerde realizar la prueba de escritorio\"\"\"\n",
        "\n",
        "numero = int(input(\"Ingresa un número para generar su tabla de multiplicar: \"))\n",
        "\n",
        "for i in range(1, 101):\n",
        "    resultado = numero * i\n",
        "    print(f\"{numero} x {i} = {resultado}\")\n"
      ],
      "metadata": {
        "id": "6U1ak4tIpyZB",
        "colab": {
          "base_uri": "https://localhost:8080/"
        },
        "outputId": "51e2fe0c-4d5d-4f69-8ea3-c4c8b013c095"
      },
      "execution_count": 3,
      "outputs": [
        {
          "output_type": "stream",
          "name": "stdout",
          "text": [
            "Ingresa un número para generar su tabla de multiplicar: 4\n",
            "4 x 1 = 4\n",
            "4 x 2 = 8\n",
            "4 x 3 = 12\n",
            "4 x 4 = 16\n",
            "4 x 5 = 20\n",
            "4 x 6 = 24\n",
            "4 x 7 = 28\n",
            "4 x 8 = 32\n",
            "4 x 9 = 36\n",
            "4 x 10 = 40\n",
            "4 x 11 = 44\n",
            "4 x 12 = 48\n",
            "4 x 13 = 52\n",
            "4 x 14 = 56\n",
            "4 x 15 = 60\n",
            "4 x 16 = 64\n",
            "4 x 17 = 68\n",
            "4 x 18 = 72\n",
            "4 x 19 = 76\n",
            "4 x 20 = 80\n",
            "4 x 21 = 84\n",
            "4 x 22 = 88\n",
            "4 x 23 = 92\n",
            "4 x 24 = 96\n",
            "4 x 25 = 100\n",
            "4 x 26 = 104\n",
            "4 x 27 = 108\n",
            "4 x 28 = 112\n",
            "4 x 29 = 116\n",
            "4 x 30 = 120\n",
            "4 x 31 = 124\n",
            "4 x 32 = 128\n",
            "4 x 33 = 132\n",
            "4 x 34 = 136\n",
            "4 x 35 = 140\n",
            "4 x 36 = 144\n",
            "4 x 37 = 148\n",
            "4 x 38 = 152\n",
            "4 x 39 = 156\n",
            "4 x 40 = 160\n",
            "4 x 41 = 164\n",
            "4 x 42 = 168\n",
            "4 x 43 = 172\n",
            "4 x 44 = 176\n",
            "4 x 45 = 180\n",
            "4 x 46 = 184\n",
            "4 x 47 = 188\n",
            "4 x 48 = 192\n",
            "4 x 49 = 196\n",
            "4 x 50 = 200\n",
            "4 x 51 = 204\n",
            "4 x 52 = 208\n",
            "4 x 53 = 212\n",
            "4 x 54 = 216\n",
            "4 x 55 = 220\n",
            "4 x 56 = 224\n",
            "4 x 57 = 228\n",
            "4 x 58 = 232\n",
            "4 x 59 = 236\n",
            "4 x 60 = 240\n",
            "4 x 61 = 244\n",
            "4 x 62 = 248\n",
            "4 x 63 = 252\n",
            "4 x 64 = 256\n",
            "4 x 65 = 260\n",
            "4 x 66 = 264\n",
            "4 x 67 = 268\n",
            "4 x 68 = 272\n",
            "4 x 69 = 276\n",
            "4 x 70 = 280\n",
            "4 x 71 = 284\n",
            "4 x 72 = 288\n",
            "4 x 73 = 292\n",
            "4 x 74 = 296\n",
            "4 x 75 = 300\n",
            "4 x 76 = 304\n",
            "4 x 77 = 308\n",
            "4 x 78 = 312\n",
            "4 x 79 = 316\n",
            "4 x 80 = 320\n",
            "4 x 81 = 324\n",
            "4 x 82 = 328\n",
            "4 x 83 = 332\n",
            "4 x 84 = 336\n",
            "4 x 85 = 340\n",
            "4 x 86 = 344\n",
            "4 x 87 = 348\n",
            "4 x 88 = 352\n",
            "4 x 89 = 356\n",
            "4 x 90 = 360\n",
            "4 x 91 = 364\n",
            "4 x 92 = 368\n",
            "4 x 93 = 372\n",
            "4 x 94 = 376\n",
            "4 x 95 = 380\n",
            "4 x 96 = 384\n",
            "4 x 97 = 388\n",
            "4 x 98 = 392\n",
            "4 x 99 = 396\n",
            "4 x 100 = 400\n"
          ]
        }
      ]
    },
    {
      "cell_type": "code",
      "execution_count": 4,
      "metadata": {
        "id": "hF6UO6s9B1DV",
        "colab": {
          "base_uri": "https://localhost:8080/"
        },
        "outputId": "aef9781b-b0da-4bf0-99d3-21e3918990f3"
      },
      "outputs": [
        {
          "output_type": "stream",
          "name": "stdout",
          "text": [
            "El costo total de los productos sin iva es: 465\n",
            "El costo total de los productos con iva es: 553.35\n"
          ]
        }
      ],
      "source": [
        "\"\"\"4. Realice un programa que permita saber el costo total de 10 producto cualquiera y que al\n",
        "final muestre el precio antes IVA y el precio después de IVA de la compra\"\"\"\n",
        "\n",
        "productos = [10,20,25,30,35, 40,50,75,80,100]\n",
        "sum_prod_sin_iva = 0\n",
        "sum_prod_con_iva = 0\n",
        "\n",
        "\n",
        "for producto in productos:\n",
        "        sum_prod_sin_iva = sum_prod_sin_iva+ producto\n",
        "        sum_prod_con_iva = sum_prod_sin_iva + 0.19* sum_prod_sin_iva\n",
        "print (f\"El costo total de los productos sin iva es: {sum_prod_sin_iva}\")\n",
        "print (f\"El costo total de los productos con iva es: {sum_prod_con_iva}\")"
      ]
    }
  ]
}
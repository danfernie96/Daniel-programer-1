{
  "nbformat": 4,
  "nbformat_minor": 0,
  "metadata": {
    "colab": {
      "provenance": [],
      "authorship_tag": "ABX9TyNQeAnGNbA6dRE2Rdx0Rg1U"
    },
    "kernelspec": {
      "name": "python3",
      "display_name": "Python 3"
    },
    "language_info": {
      "name": "python"
    }
  },
  "cells": [
    {
      "cell_type": "markdown",
      "source": [
        "   Actividades de DESEMPEÑO / Taller 1"
      ],
      "metadata": {
        "id": "_CS5gSFHwmPE"
      }
    },
    {
      "cell_type": "code",
      "execution_count": 1,
      "metadata": {
        "colab": {
          "base_uri": "https://localhost:8080/"
        },
        "id": "VHoifvYtwSH3",
        "outputId": "dba031ee-9960-4e0a-ae13-5d3a26341700"
      },
      "outputs": [
        {
          "output_type": "stream",
          "name": "stdout",
          "text": [
            "el resultado de la operacion (5+5)*5 es 50 \n",
            "el resultado de la operacion 5+(5*5) es 30\n",
            "el resultado de la operacion 5 modulo 2 es 1\n",
            "el resultado de la operacion (5-(6/3))*2 es 6.0\n"
          ]
        }
      ],
      "source": [
        "\"\"\" 1. ¿Cuál es el resultado de cada una de las siguientes operaciones?\n",
        "\n",
        "a. (5+5)*5\n",
        "b. 5+(5*5)\n",
        "c. 5 Modulo 2\n",
        "d. (5-(6/3))*2 \"\"\"\n",
        "\n",
        "resultado_a =(5+5)*5\n",
        "print(f\"el resultado de la operacion (5+5)*5 es {resultado_a} \")\n",
        "\n",
        "resultado_b =5+(5*5)\n",
        "print(f\"el resultado de la operacion 5+(5*5) es {resultado_b}\")\n",
        "\n",
        "# modulo= 5%2\n",
        "\n",
        "resultado_c =5%2\n",
        "print(f\"el resultado de la operacion 5 modulo 2 es {resultado_c}\")\n",
        "\n",
        "resultado_d =(5-(6/3))*2\n",
        "print(f\"el resultado de la operacion (5-(6/3))*2 es {resultado_d}\")\n"
      ]
    },
    {
      "cell_type": "code",
      "source": [
        "\"\"\" 2. Si a=7 y b=3, ¿Cuál es el resultado de cada una de las siguientes comparaciones?\n",
        "a. a != b , b. a = b , c. a > b , d. (a+b) < 2 , e. (a>7) Y (b=3) , f. (a<7) O (b=3) , g. (a<7) O (b!=3)\"\"\"\n",
        "\n",
        "a=7\n",
        "b=3\n",
        "\n",
        "resultado_a = a != b\n",
        "print(f\"el resultado de la comparacion a != b es {resultado_a} \")\n",
        "\n",
        "resultado_b = a == b\n",
        "print(f\"el resultado de la comparacion a = b es {resultado_b} \")\n",
        "\n",
        "resultado_c = a > b\n",
        "print(f\"el resultado de la comparacion a > b es {resultado_c} \")\n",
        "\n",
        "resultado_d = (a+b) < 2\n",
        "print(f\"el resultado de la comparacion (a+b) < 2 es {resultado_d} \")\n",
        "\n",
        "resultado_e = (a>7) and (b==3)\n",
        "print(f\"el resultado de la comparacion (a>7) Y (b=3) es {resultado_e} \")\n",
        "\n",
        "resultado_f = (a<7) or (b==3)\n",
        "print(f\"el resultado de la comparacion (a<7) O (b=3) es {resultado_f} \")\n",
        "\n",
        "resultado_g = (a<7) or (b!=3)\n",
        "print(f\"el resultado de la comparacion (a<7) O (b!=3) es {resultado_g} \")"
      ],
      "metadata": {
        "colab": {
          "base_uri": "https://localhost:8080/"
        },
        "id": "eHC_6VmvxhQe",
        "outputId": "7052a871-352b-44ad-847f-c2c8afabea87"
      },
      "execution_count": 2,
      "outputs": [
        {
          "output_type": "stream",
          "name": "stdout",
          "text": [
            "el resultado de la comparacion a != b es True \n",
            "el resultado de la comparacion a = b es False \n",
            "el resultado de la comparacion a > b es True \n",
            "el resultado de la comparacion (a+b) < 2 es False \n",
            "el resultado de la comparacion (a>7) Y (b=3) es False \n",
            "el resultado de la comparacion (a<7) O (b=3) es True \n",
            "el resultado de la comparacion (a<7) O (b!=3) es False \n"
          ]
        }
      ]
    },
    {
      "cell_type": "code",
      "source": [
        "\"\"\" 4. En un curso de “fundamentos de algoritmos”,se tienen las siguientes notas (Cada una de ellas entre 1 y 5)\n",
        "con sus respectivos porcentajes:\n",
        "Taller 1: 20%\n",
        "Taller 2: 15%\n",
        "Cuestionario 1:22%\n",
        "Cuestionario 2:10%\n",
        "Proyecto final: 33%\"\"\"\n",
        "\n",
        "# Escribir un algoritmo que lea las cinco notas de un estudiante e imprima la nota definitiva.\n",
        "\n",
        "nota1 = float(input(\"Ingrese la nota 1: \"))\n",
        "nota2 = float(input(\"Ingrese la nota 2: \"))\n",
        "nota3 = float(input(\"Ingrese la nota 3: \"))\n",
        "nota4 = float(input(\"Ingrese la nota 4: \"))\n",
        "nota5 = float(input(\"Ingrese la nota 5: \"))\n",
        "nota_promedio = ((0.20*nota1) + (0.15*nota2) + (0.22*nota3) + (0.10*nota4)+ (0.33*nota5))\n",
        "print (f\"Su nota final del curso de programación es {nota_promedio}\")\n"
      ],
      "metadata": {
        "colab": {
          "base_uri": "https://localhost:8080/"
        },
        "id": "YgLfKHDGx3ml",
        "outputId": "e3b06fd4-1255-4ff7-c37d-7097f1355f96"
      },
      "execution_count": 3,
      "outputs": [
        {
          "output_type": "stream",
          "name": "stdout",
          "text": [
            "Ingrese la nota 1: 5\n",
            "Ingrese la nota 2: 3\n",
            "Ingrese la nota 3: 4\n",
            "Ingrese la nota 4: 5\n",
            "Ingrese la nota 5: 2\n",
            "Su nota final del curso de programación es 3.49\n"
          ]
        }
      ]
    },
    {
      "cell_type": "code",
      "source": [
        "\"\"\" 5. Realizar un algoritmo que permita convertir metros a millas\"\"\"\n",
        "\n",
        "\n",
        "# Solicitar la longitud en metros al usuario\n",
        "metros = float(input(\"Ingresa la longitud en metros: \"))\n",
        "\n",
        "# Calcular la longitud en millas y mostrar el resultado\n",
        "millas = metros / 1609.34\n",
        "print(f\"{metros} metros son aproximadamente {millas:.2f} millas\")"
      ],
      "metadata": {
        "colab": {
          "base_uri": "https://localhost:8080/"
        },
        "id": "oUFCzggM0u-d",
        "outputId": "11e19cde-9992-4a98-aa84-967101f00041"
      },
      "execution_count": 4,
      "outputs": [
        {
          "output_type": "stream",
          "name": "stdout",
          "text": [
            "Ingresa la longitud en metros: 100\n",
            "100.0 metros son aproximadamente 0.06 millas\n"
          ]
        }
      ]
    },
    {
      "cell_type": "code",
      "source": [
        "\"\"\" 6. El gobierno nacional ha decretado un incremento\n",
        "del 4,2% para el salario mínimo del próximo año.\n",
        "Elabore un algoritmo que muestre el nuevo salario mínimo\n",
        "para el siguiente año.\"\"\"\n",
        "\n",
        "# algoritmo imprime nuevo salario\n",
        "\n",
        "Salario_año_pasado = float(input(\"Ingrese el salario del año pasado:\"))\n",
        "Salario_año_actual = Salario_año_pasado + (0.042*Salario_año_pasado)\n",
        "print(f\"El nuevo salario mínimo para el año siguiente es: {Salario_año_actual}\")\n"
      ],
      "metadata": {
        "colab": {
          "base_uri": "https://localhost:8080/"
        },
        "id": "JkAY0See07W-",
        "outputId": "9d40cae8-ea73-430d-c972-18db393268ac"
      },
      "execution_count": 5,
      "outputs": [
        {
          "output_type": "stream",
          "name": "stdout",
          "text": [
            "Ingrese el salario del año pasado:100\n",
            "El nuevo salario mínimo para el año siguiente es: 104.2\n"
          ]
        }
      ]
    },
    {
      "cell_type": "code",
      "source": [
        "\"\"\" 7. Realizar un algoritmo que permita convertir pesos colombianos a dólares.\"\"\"\n",
        "\n",
        "# Solicitar la cantidad de pesos colombianos\n",
        "pesos_colombianos = float(input(\"Ingresa la cantidad de pesos colombianos: \"))\n",
        "\n",
        "# Solicitar el tipo de cambio actual (1 USD = X pesos colombianos)\n",
        "tipo_cambio = float(input(\"Ingresa el tipo de cambio actual (1 USD = X pesos colombianos): \"))\n",
        "\n",
        "# Calcular la cantidad de dólares equivalentes\n",
        "dolares = pesos_colombianos / tipo_cambio\n",
        "\n",
        "# Mostrar el resultado de la conversión\n",
        "print(f\"{pesos_colombianos} pesos colombianos equivalen a aproximadamente {dolares:.2f} dólares\")"
      ],
      "metadata": {
        "colab": {
          "base_uri": "https://localhost:8080/"
        },
        "id": "RRD10yA10-tg",
        "outputId": "1634e31b-e412-4402-9d17-bbb271decb3d"
      },
      "execution_count": 8,
      "outputs": [
        {
          "output_type": "stream",
          "name": "stdout",
          "text": [
            "Ingresa la cantidad de pesos colombianos: 500.000\n",
            "Ingresa el tipo de cambio actual (1 USD = X pesos colombianos): 3.700\n",
            "500.0 pesos colombianos equivalen a aproximadamente 135.14 dólares\n"
          ]
        }
      ]
    },
    {
      "cell_type": "code",
      "source": [],
      "metadata": {
        "id": "xF0i71xF1C-6"
      },
      "execution_count": null,
      "outputs": []
    }
  ]
}
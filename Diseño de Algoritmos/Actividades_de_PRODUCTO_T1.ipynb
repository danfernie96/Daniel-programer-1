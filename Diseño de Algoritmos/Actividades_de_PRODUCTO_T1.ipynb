{
  "nbformat": 4,
  "nbformat_minor": 0,
  "metadata": {
    "colab": {
      "provenance": []
    },
    "kernelspec": {
      "name": "python3",
      "display_name": "Python 3"
    },
    "language_info": {
      "name": "python"
    }
  },
  "cells": [
    {
      "cell_type": "markdown",
      "source": [
        "   TALLER 1 Actividades PRODUCTO / ejercicios algoritmicos"
      ],
      "metadata": {
        "id": "Xkh3KUfbwDQD"
      }
    },
    {
      "cell_type": "code",
      "source": [
        "\"\"\" 1. Compra de artículos, Si los artículos comprados son menores a 3 Pagar en efectivo,\n",
        "caso contrario pagar con tarjeta.\"\"\"\n",
        "\n",
        "#1. entender--compra--condicion--\n",
        "#2. herramientas--\"IF\", comparadores logicos\n",
        "#3. analisis--que , para que ,porque\n",
        "#4. prueba y evaluaciones\n",
        "\n",
        "precio=int(input('ingrese un numero de precio del artículo'))\n",
        "\n",
        "#precio=5\n",
        "#precio=4\n",
        "\n",
        "if precio<3:\n",
        "  print ('paga en efectivo')\n",
        "\n",
        "if precio >3:\n",
        "  print('paga con tarjeta')\n",
        ""
      ],
      "metadata": {
        "id": "luECdyJKA3Ej",
        "colab": {
          "base_uri": "https://localhost:8080/"
        },
        "outputId": "ecbeef08-d83b-4231-e701-e8b4d7cbd1a3"
      },
      "execution_count": null,
      "outputs": [
        {
          "output_type": "stream",
          "name": "stdout",
          "text": [
            "ingrese un numero de precio del artículo5\n",
            "paga con tarjeta\n"
          ]
        }
      ]
    },
    {
      "cell_type": "code",
      "source": [
        "\"\"\" 2. Programa que permita leer 3 valores\"\"\"\n",
        "\n",
        "num1 = 3  # int(input('ingrese un numero'))\n",
        "num2 = 4  # int(input('ingrese un segundo numero'))\n",
        "num3 = 60  # int(input('ingrese un tercer numero'))\n",
        "\n",
        "if num1 != num2 and num1 != num3:\n",
        "    if num2 != num1 and num2 != num3:\n",
        "        if num3 != num1 and num3 != num2:\n",
        "            if num1 > num2 and num1 > num3:\n",
        "                print(f\"el {num1} es el mayor\")\n",
        "            elif num2 > num1 and num2 > num3:\n",
        "                print(f\"el {num2} es el mayor\")\n",
        "            elif num3 > num1 and num3 > num2:\n",
        "                print(f\"el {num3} es el mayor\")\n",
        "else:\n",
        "    print('ingrese numeros diferentes')\n",
        ""
      ],
      "metadata": {
        "id": "NUYotfVUAjNu",
        "colab": {
          "base_uri": "https://localhost:8080/"
        },
        "outputId": "1c176239-bcf6-4360-ec61-60f6eb095662"
      },
      "execution_count": null,
      "outputs": [
        {
          "output_type": "stream",
          "name": "stdout",
          "text": [
            "el 60 es el mayor\n"
          ]
        }
      ]
    },
    {
      "cell_type": "code",
      "source": [
        "\"\"\" 3. Ingresar por teclado 3 números enteros\n",
        "y mostrar el menor de los 3 números ingresados\n",
        "y la suma de dichos números.\"\"\"\n",
        "\n",
        "num1=5   # int(input(\"ingrese el numero\"))\n",
        "num2=7   # int(input(\"ingrese el segundo numero\"))\n",
        "num3=2   # int(input(\"ingrese el tercer numero\"))\n",
        "\n",
        "# mostrar el menor de los tres\n",
        "# mostrar la suma de los tres\n",
        "\n",
        "if num1 < num2 and num1 < num3:\n",
        "    print(f\"El {num1} es el menor\")\n",
        "elif num2 < num1 and num2 < num3:\n",
        "    print(f\"El {num2} es el menor\")\n",
        "elif num3 < num1 and num3 < num2:\n",
        "    print(f\"El {num3} es el menor\")\n",
        "\n",
        "print(f\" y la suma de los numeros es:{num1+num2+num3}\")\n"
      ],
      "metadata": {
        "colab": {
          "base_uri": "https://localhost:8080/"
        },
        "id": "Z7lwvJEn1WQp",
        "outputId": "fe059feb-db2e-45e4-b027-e21fe3807802"
      },
      "execution_count": null,
      "outputs": [
        {
          "output_type": "stream",
          "name": "stdout",
          "text": [
            "El 2 es el menor\n",
            " y la suma de los numeros es:14\n"
          ]
        }
      ]
    },
    {
      "cell_type": "code",
      "source": [
        "\"\"\" 4. a un trabajador le pagan según sus horas trabajadas por una tarifa\n",
        "de pago por hora. si la cantidad de horas trabajadas es mayor a 40 horas.\n",
        " la tarifa se incrementa en un 50% para las horas extras. calcular el\n",
        " salario del trabajador dadas las horas trabajadas y la tarifa\"\"\"\n",
        "\n",
        "#1. que tengo ----#HORAS POR CANTIDAD DE TRABAJO-----condicion de tarifa para horas extras\n",
        "#2. #que herramientas tengo ---IF---operador logicos---saber calcular porcentaje\n",
        "#3. analisis que , porque , para que?\n",
        "#4. evaluacion y resultados\n",
        "\n",
        "horas_trabajador=50 #int(input('ingrese horas trabajadas'))\n",
        "valor_hora=4        #int(input('ingrese sus horas'))\n",
        "#formula general\n",
        "\n",
        "if horas_trabajador<40:\n",
        "  print(f\"el salario del trabajador es:{horas_trabajador*valor_hora}\")\n",
        "elif horas_trabajador>=40:\n",
        "  hora_extra=horas_trabajador-40\n",
        "  horas_totales=valor_hora*horas_trabajador\n",
        "  incremento=hora_extra*0.5*valor_hora\n",
        "  resultado=horas_trabajador * valor_hora + incremento\n",
        "  print(f\" su salario + hora extra es {resultado} \")\n",
        ""
      ],
      "metadata": {
        "id": "hqofMz2LLlez",
        "colab": {
          "base_uri": "https://localhost:8080/"
        },
        "outputId": "9e334bec-9296-4194-d703-1c4ab051a4ad"
      },
      "execution_count": null,
      "outputs": [
        {
          "output_type": "stream",
          "name": "stdout",
          "text": [
            " su salario + hora extra es 220.0 \n"
          ]
        }
      ]
    },
    {
      "cell_type": "code",
      "source": [
        "\"\"\" 5. Hacer un algoritmo que calcule el total a pagar por la compra de camisas.\n",
        "Si se compran tres camisas o más se aplica un descuento del 20% sobre el total de la compra\n",
        "y si son menos de tres camisas un descuento del 10%\"\"\"\n",
        "\n",
        "# total a pagar por la compra de camisas.\n",
        "\n",
        "NCC = float(input(\"ingrese número de camisas compradas:\"))\n",
        "TU = 20000\n",
        "# Se aplica  20% des si se compran 3 camisas o más, y del 10% si se compran menos de 3 camisas\n",
        "\n",
        "TD1 = (NCC * TU) - ((NCC * TU) * 0.10)\n",
        "TD2 = (NCC * TU) - ((NCC * TU) * 0.20)\n",
        "if NCC <3 :\n",
        "    print (f\"El valor de las camisas es: {TD1}\")\n",
        "else :\n",
        "    print (f\"El valor de las camisas es {TD2}\")"
      ],
      "metadata": {
        "id": "Q7DbkcMgDwti",
        "colab": {
          "base_uri": "https://localhost:8080/"
        },
        "outputId": "bfbd0d4c-e06a-4d60-fbf9-7b1954fd74e3"
      },
      "execution_count": 15,
      "outputs": [
        {
          "output_type": "stream",
          "name": "stdout",
          "text": [
            "ingrese número de camisas compradas:20\n",
            "El valor de las camisas es 320000.0\n"
          ]
        }
      ]
    },
    {
      "cell_type": "code",
      "source": [
        "\"\"\"6. A un trabajador le descuentan de su sueldo el 10%,\n",
        "si su sueldo es menor o igual a 1000.\n",
        "por encima de 1000 y hasta 2000 el 5% del adicional,\n",
        "y por encima de 2000 el 3% del adicional.\n",
        "calcular el descuento y sueldo neto que recibe el trabajador dado su sueldo\"\"\"\n",
        "\n",
        "\n",
        "# Paso 1: Obtener el sueldo del trabajador\n",
        "sueldo = float(input(\"Ingrese el sueldo del trabajador: \"))\n",
        "# Paso 2: Calcular el descuento\n",
        "if sueldo <= 1000:\n",
        "    descuento = 0.10 * sueldo\n",
        "elif sueldo <= 2000:\n",
        "    adicional = sueldo - 1000\n",
        "    descuento = 0.10 * 1000 + 0.05 * adicional\n",
        "else:\n",
        "    adicional = sueldo - 2000\n",
        "    descuento = 0.10 * 1000 + 0.05 * 1000 + 0.03 * adicional\n",
        "# Paso 3: Calcular el sueldo neto\n",
        "sueldo_neto = sueldo - descuento\n",
        "# Mostrar resultados\n",
        "print(f\"Descuento: {descuento}\")\n",
        "print(f\"Sueldo Neto: {sueldo_neto}\")"
      ],
      "metadata": {
        "id": "JLXuH7JvdoLp",
        "colab": {
          "base_uri": "https://localhost:8080/"
        },
        "outputId": "a7c86711-3699-4596-e990-76e2d44c674d"
      },
      "execution_count": 16,
      "outputs": [
        {
          "output_type": "stream",
          "name": "stdout",
          "text": [
            "Ingrese el sueldo del trabajador: 3000\n",
            "Descuento: 180.0\n",
            "Sueldo Neto: 2820.0\n"
          ]
        }
      ]
    },
    {
      "cell_type": "code",
      "source": [
        "\"\"\" 7. Determinar si un alumno aprueba o reprueba un curso,\n",
        "sabiendo que aprobara si:\n",
        "su promedio de cinco calificaciones es mayor o igual a 5;\n",
        "reprueba en caso contrario.\"\"\"\n",
        "\n",
        "# Entender: el problema nos pide determinar si un alumno aprueba o reprueba un curso\n",
        "# Para aprobar, el promedio de las cinco calificaciones del alumno debe ser mayor o igual a 5\n",
        "# Para reprobar, el promedio debe ser menor que 5\"\"\"\n",
        "\n",
        "#calificaciones:\n",
        "c1= 6\n",
        "c2= 7\n",
        "c3= 5\n",
        "c4= 4\n",
        "c5= 8\n",
        "\n",
        "# promedio = suma de calificaiones / 5 (total de calificaiones)\n",
        "# Comparar el promedio con 5:\n",
        "\n",
        "# condicional: Si el promedio es mayor o igual a 5, el alumno aprueba.\n",
        "# condicional: Si el promedio es menor que 5, el alumno reprueba\n",
        "\n",
        "promedio= (c1+c2+c3+c4+c5)/5\n",
        "print(promedio)\n",
        "if promedio >= 5:\n",
        "  print(f\"el alumno aprueba\")\n",
        "\n",
        "if promedio < 5:\n",
        "  print(f\"el alumno reprueba\")\n",
        "\n",
        "# Comparamos el promedio con 5 para determinar si el alumno aprueba o reprueba"
      ],
      "metadata": {
        "id": "gUL1qnm_eunj",
        "colab": {
          "base_uri": "https://localhost:8080/"
        },
        "outputId": "01f248b1-b78d-4214-e7f5-c1c038c4c13c"
      },
      "execution_count": null,
      "outputs": [
        {
          "output_type": "stream",
          "name": "stdout",
          "text": [
            "6.0\n",
            "el alumno aprueba\n"
          ]
        }
      ]
    },
    {
      "cell_type": "code",
      "source": [
        "\"\"\" 8.- Una distribuidora de motocicletas tiene una promoción\n",
        "de fin de año que consiste en lo siguiente. Las motos marca Honda\n",
        "tienen un descuento del 5%, las marcas Yamaha del 8% y las Suzuki\n",
        "del 10%, las otras marcas 2%. Se debe mostrar el precio de la moto,\n",
        "el descuento y el precio a pagar.\"\"\"\n",
        "\n",
        "#que tenemos?\n",
        "#2. herramientas\n",
        "#3. analisis\n",
        "#4. evaluacion y resultados\n",
        "\n",
        "# descuentos:\n",
        "\n",
        "#honda: 5%\n",
        "#yamaha 8%\n",
        "#susuki 10%\n",
        "#otras 2%\n",
        "\n",
        "#mostras 3 cosas:\n",
        "\n",
        "#precio de la moto\n",
        "#descuento\n",
        "#precio a pagar\n",
        "\n",
        "#porcentaje\n",
        "#234*0.1\n",
        "\n",
        "#moto='hp'\n",
        "#valor_moto= 300\n",
        "\n",
        "moto= input(\"ingrese la marca de la moto\")\n",
        "valor_moto= int(input(\"ingrese el valor de la moto\"))\n",
        "\n",
        "if moto=='yamaha':\n",
        "  resultado = valor_moto*0.08\n",
        "\n",
        "  print(f\" su descuento  es {resultado}  \")\n",
        "\n",
        "elif moto=='honda':\n",
        "  resultado = valor_moto*0.05\n",
        "\n",
        "  print(f\" su descuento  es {resultado}  \")\n",
        "\n",
        "elif moto=='susuki':\n",
        "  resultado = valor_moto*0.1\n",
        "\n",
        "  print(f\" su descuento  es {resultado}  \")\n",
        "\n",
        "else:\n",
        "  resultado = valor_moto*0.02\n",
        "  print(f\" su descuento es {resultado} \")"
      ],
      "metadata": {
        "id": "KJwK1F2NZBUV",
        "colab": {
          "base_uri": "https://localhost:8080/"
        },
        "outputId": "1568af8d-37cf-485f-9333-12962aedf55b"
      },
      "execution_count": null,
      "outputs": [
        {
          "output_type": "stream",
          "name": "stdout",
          "text": [
            "ingrese la marca de la motohonda\n",
            "ingrese el valor de la moto300\n",
            " su descuento  es 15.0  \n"
          ]
        }
      ]
    },
    {
      "cell_type": "code",
      "source": [
        "\"\"\" 9.- Pedir un valor numérico e indicar si es par o no es par\"\"\"\n",
        "\n",
        "# Pedir al usuario que ingrese un valor numérico\n",
        "numero = int(input(\"Ingresa un valor numérico: \"))\n",
        "\n",
        "# Verificar si el número es par o no\n",
        "if numero % 2 == 0:\n",
        "    print(\"El número\", numero, \"es par.\")\n",
        "else:\n",
        "    print(\"El número\", numero, \"no es par.\")"
      ],
      "metadata": {
        "id": "3Umjma9W906F",
        "colab": {
          "base_uri": "https://localhost:8080/"
        },
        "outputId": "8c974ada-2799-4c41-c366-e3b1fffc8488"
      },
      "execution_count": 17,
      "outputs": [
        {
          "output_type": "stream",
          "name": "stdout",
          "text": [
            "Ingresa un valor numérico: 7\n",
            "El número 7 no es par.\n"
          ]
        }
      ]
    },
    {
      "cell_type": "code",
      "source": [
        "\"\"\"10.- Un cliente va a comprar una moto y se percata que si lo compraba\n",
        "el martes tiene un descuento del 12%, luego si lo compra el sábado tiene\n",
        "un descuento del 18% y si es feriado un 25%, mostrar cuanto pagara en cada opción.\"\"\"\n",
        "\n",
        "# Precio base de la moto\n",
        "precio_moto = 1000\n",
        "\n",
        "# Descuento por comprar el martes (12%)\n",
        "descuento_martes = 0.12\n",
        "precio_martes = precio_moto - (precio_moto * descuento_martes)\n",
        "\n",
        "# Descuento por comprar el sábado (18%)\n",
        "descuento_sabado = 0.18\n",
        "precio_sabado = precio_moto - (precio_moto * descuento_sabado)\n",
        "\n",
        "# Descuento por comprar en feriado (25%)\n",
        "descuento_feriado = 0.25\n",
        "precio_feriado = precio_moto - (precio_moto * descuento_feriado)\n",
        "\n",
        "# Mostrar los precios con descuento\n",
        "print(\"Si compra la moto el martes, pagará:\", precio_martes)\n",
        "print(\"Si compra la moto el sábado, pagará:\", precio_sabado)\n",
        "print(\"Si compra la moto en feriado, pagará:\", precio_feriado)"
      ],
      "metadata": {
        "id": "6zn_Ajfl-B65",
        "colab": {
          "base_uri": "https://localhost:8080/"
        },
        "outputId": "f04e870d-0730-4ee8-a804-e54bdc6b8dca"
      },
      "execution_count": 18,
      "outputs": [
        {
          "output_type": "stream",
          "name": "stdout",
          "text": [
            "Si compra la moto el martes, pagará: 880.0\n",
            "Si compra la moto el sábado, pagará: 820.0\n",
            "Si compra la moto en feriado, pagará: 750.0\n"
          ]
        }
      ]
    },
    {
      "cell_type": "code",
      "source": [],
      "metadata": {
        "id": "QcGF0ZC-9h8A"
      },
      "execution_count": null,
      "outputs": []
    }
  ]
}